{
 "cells": [
  {
   "cell_type": "code",
   "execution_count": 1,
   "id": "733c246b",
   "metadata": {},
   "outputs": [],
   "source": [
    "import pyvista as pv\n",
    "import os\n",
    "import PVGeo\n",
    "import pymeshlab"
   ]
  },
  {
   "cell_type": "code",
   "execution_count": null,
   "id": "6cb8016f",
   "metadata": {},
   "outputs": [],
   "source": [
    "#You can read in vtk models with pyvista and save as stl\n",
    "#If for example a GOCAD Surface to start with, you can do something like this\n",
    "\n",
    "#Then it is as straightforward as below"
   ]
  },
  {
   "cell_type": "code",
   "execution_count": 28,
   "id": "07203550",
   "metadata": {},
   "outputs": [
    {
     "name": "stdout",
     "output_type": "stream",
     "text": [
      "Warning:\n",
      "Unable to load the following plugins:\n",
      "\n",
      "\tfilter_sketchfab.dll: filter_sketchfab.dll does not seem to be a Qt Plugin.\n",
      "\n",
      "Cannot load library C:\\Users\\rscott\\AppData\\Local\\Continuum\\anaconda3\\envs\\gemgis\\lib\\site-packages\\pymeshlab\\lib\\plugins\\filter_sketchfab.dll: The specified module could not be found.\n",
      "\n"
     ]
    }
   ],
   "source": [
    "ms = pymeshlab.MeshSet()"
   ]
  },
  {
   "cell_type": "code",
   "execution_count": 48,
   "id": "b3f03f1d",
   "metadata": {},
   "outputs": [],
   "source": [
    "#pymeshlab\n",
    "#https://pymeshlab.readthedocs.io/en/latest/intro.html\n",
    "import pymeshlab\n",
    "ms = pymeshlab.MeshSet()\n",
    "for root, dirs, files in os.walk(r'H:\\STLDIR'):\n",
    "    for file in files:\n",
    "        if '.stl' in file:\n",
    "            ms.load_new_mesh(os.path.join(root,file))\n",
    "            filedxf = file.replace('stl','dxf')\n",
    "            ms.save_current_mesh(os.path.join(root,filedxf))"
   ]
  },
  {
   "cell_type": "code",
   "execution_count": null,
   "id": "471b43d5",
   "metadata": {},
   "outputs": [],
   "source": [
    "#https://stackoverflow.com/questions/66966578/reproject-mesh-points-of-vtu-file-using-pyvista-and-pyproj"
   ]
  }
 ],
 "metadata": {
  "kernelspec": {
   "display_name": "Python [conda env:gemgis]",
   "language": "python",
   "name": "conda-env-gemgis-py"
  },
  "language_info": {
   "codemirror_mode": {
    "name": "ipython",
    "version": 3
   },
   "file_extension": ".py",
   "mimetype": "text/x-python",
   "name": "python",
   "nbconvert_exporter": "python",
   "pygments_lexer": "ipython3",
   "version": "3.8.8"
  }
 },
 "nbformat": 4,
 "nbformat_minor": 5
}
